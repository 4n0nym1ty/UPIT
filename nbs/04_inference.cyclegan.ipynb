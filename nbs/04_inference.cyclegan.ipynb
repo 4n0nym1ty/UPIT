{
 "cells": [
  {
   "cell_type": "markdown",
   "metadata": {},
   "source": [
    "# CycleGAN batch inference\n",
    "This notebooks provides inference functionality."
   ]
  },
  {
   "cell_type": "code",
   "execution_count": null,
   "metadata": {},
   "outputs": [],
   "source": [
    "#default_exp inference.cyclegan"
   ]
  },
  {
   "cell_type": "code",
   "execution_count": null,
   "metadata": {},
   "outputs": [],
   "source": [
    "#export \n",
    "from upit.models.cyclegan import *\n",
    "from upit.train.cyclegan import *\n",
    "import torch\n",
    "from torch.utils.data import Dataset, DataLoader\n",
    "import torchvision\n",
    "import glob\n",
    "import tqdm\n",
    "import os\n",
    "import PIL"
   ]
  },
  {
   "cell_type": "markdown",
   "metadata": {},
   "source": [
    "## Batch inference functionality"
   ]
  },
  {
   "cell_type": "code",
   "execution_count": null,
   "metadata": {},
   "outputs": [],
   "source": [
    "#export\n",
    "class FolderDataset(Dataset):\n",
    "    import PIL\n",
    "    def __init__(self, path,transforms=None):\n",
    "        self.files = glob.glob(path+'/*')\n",
    "        self.totensor = torchvision.transforms.ToTensor()\n",
    "        if transforms:\n",
    "            self.transform = torchvision.transforms.Compose(transforms)\n",
    "        else:\n",
    "            self.transform = lambda x: x\n",
    "    \n",
    "    def __len__(self):\n",
    "        return len(self.files)\n",
    "\n",
    "    def __getitem__(self, idx):\n",
    "        image = PIL.Image.open(self.files[idx % len(self.files)])\n",
    "        image = self.totensor(image)\n",
    "        image = self.transform(image)\n",
    "        return self.files[idx], image\n",
    "\n",
    "def load_dataset(test_path,bs=4,num_workers=4):\n",
    "        dataset = FolderDataset(\n",
    "            path=test_path,\n",
    "            transforms=[torchvision.transforms.Normalize((0.5, 0.5, 0.5), (0.5, 0.5, 0.5))]\n",
    "        ) \n",
    "        loader = torch.utils.data.DataLoader(\n",
    "            dataset,\n",
    "            batch_size=bs,\n",
    "            num_workers=num_workers,\n",
    "            shuffle=True\n",
    "        )\n",
    "        return loader"
   ]
  },
  {
   "cell_type": "code",
   "execution_count": null,
   "metadata": {},
   "outputs": [],
   "source": [
    "#export\n",
    "def get_preds_cyclegan(learn,test_path,pred_path,bs=4,num_workers=4,suffix='png'):\n",
    "    \n",
    "    assert os.path.exists(test_path)\n",
    "    \n",
    "    if not os.path.exists(pred_path):\n",
    "        os.mkdir(pred_path)\n",
    "        \n",
    "    model = learn.model.G_A\n",
    "    \n",
    "    test_dl = load_dataset(test_path,bs,num_workers)\n",
    "    \n",
    "    for i, xb in tqdm.tqdm(enumerate(test_dl),total=len(test_dl)):\n",
    "        fn, im = xb\n",
    "        preds = (learn.model.G_B(im.cuda())/2 + 0.5)\n",
    "        for i in range(len(fn)):\n",
    "            new_fn = os.path.join(pred_path,'.'.join([os.path.basename(fn[i]).split('.')[0]+'_fakeB',suffix]))                  \n",
    "            torchvision.utils.save_image(preds[i],new_fn)"
   ]
  },
  {
   "cell_type": "code",
   "execution_count": null,
   "metadata": {},
   "outputs": [
    {
     "name": "stdout",
     "output_type": "stream",
     "text": [
      "Converted 01_models.cyclegan.ipynb.\n",
      "Converted 01b_models.junyanz.ipynb.\n",
      "Converted 02_data.unpaired.ipynb.\n",
      "Converted 03_train.cyclegan.ipynb.\n",
      "Converted 04_inference.cyclegan.ipynb.\n",
      "Converted index.ipynb.\n"
     ]
    }
   ],
   "source": [
    "#hide\n",
    "from nbdev.export import notebook2script\n",
    "notebook2script()"
   ]
  }
 ],
 "metadata": {
  "kernelspec": {
   "display_name": "Python 3",
   "language": "python",
   "name": "python3"
  }
 },
 "nbformat": 4,
 "nbformat_minor": 4
}
