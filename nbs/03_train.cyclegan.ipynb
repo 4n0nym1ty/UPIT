{
 "cells": [
  {
   "cell_type": "markdown",
   "metadata": {},
   "source": [
    "# CycleGAN training loop\n",
    "\n",
    "> Defines the loss and training loop functions/classes for CycleGAN."
   ]
  },
  {
   "cell_type": "code",
   "execution_count": null,
   "metadata": {},
   "outputs": [],
   "source": [
    "#default_exp train.cyclegan"
   ]
  },
  {
   "cell_type": "code",
   "execution_count": null,
   "metadata": {},
   "outputs": [],
   "source": [
    "#export\n",
    "from fastai.vision.all import *\n",
    "from fastai.basics import *\n",
    "from typing import List\n",
    "from fastai.vision.gan import *\n",
    "from upit.models.cyclegan import *\n",
    "from upit.data.unpaired import *"
   ]
  },
  {
   "cell_type": "code",
   "execution_count": null,
   "metadata": {},
   "outputs": [],
   "source": [
    "#hide\n",
    "from nbdev.showdoc import *"
   ]
  },
  {
   "cell_type": "markdown",
   "metadata": {},
   "source": [
    "## The Loss Function"
   ]
  },
  {
   "cell_type": "markdown",
   "metadata": {},
   "source": [
    "\n",
    "Let's start out by writing the loss function for the CycleGAN model.\n",
    "The main loss used to train the generators. It has three parts:\n",
    "- the classic GAN loss: they must make the discriminator believe their images are real.\n",
    "- identity loss: if they are given an image from the domain they are trying to imitate, they should return the same thing\n",
    "- cycle loss: if an image from domain A goes through the generator that imitates domain B then through the generator that imitates domain A, it should be reconstructed as the same initial image. Same for domain B and switching the generators"
   ]
  },
  {
   "cell_type": "code",
   "execution_count": null,
   "metadata": {},
   "outputs": [],
   "source": [
    "#export\n",
    "class CycleGANLoss(nn.Module):\n",
    "    \"\"\"\n",
    "    CycleGAN loss function. The individual loss terms are also atrributes of this class that are accessed by fastai for recording during training.\n",
    "    \n",
    "    Attributes: \\n\n",
    "    `self.cgan` (`nn.Module`): The CycleGAN model. \\n\n",
    "    `self.l_A` (`float`): lambda_A, weight of domain A losses. \\n\n",
    "    `self.l_B` (`float`): lambda_B, weight of domain B losses. \\n\n",
    "    `self.l_idt` (`float`): lambda_idt, weight of identity lossees. \\n\n",
    "    `self.crit` (`AdaptiveLoss`): The adversarial loss function (either a BCE or MSE loss depending on `lsgan` argument) \\n\n",
    "    `self.real_A` and `self.real_B` (`fastai.torch_core.TensorImage`): Real images from domain A and B. \\n\n",
    "    `self.id_loss_A` (`torch.FloatTensor`): The identity loss for domain A calculated in the forward function \\n\n",
    "    `self.id_loss_B` (`torch.FloatTensor`): The identity loss for domain B calculated in the forward function \\n\n",
    "    `self.gen_loss` (`torch.FloatTensor`): The generator loss calculated in the forward function \\n\n",
    "    `self.cyc_loss` (`torch.FloatTensor`): The cyclic loss calculated in the forward function \n",
    "    \"\"\"\n",
    "    \n",
    "    \n",
    "    def _create_gan_loss(self, loss_func):\n",
    "        \"\"\"\n",
    "        Create adversarial loss function. It takes in an existing loss function (like those from torch.nn.functional), and returns a \n",
    "        loss function that allows comparison between discriminator output feature map, and single values (0 or 1 for real and fake)\n",
    "        \"\"\"\n",
    "        def gan_loss_func(output, target):\n",
    "            return loss_func(output, torch.Tensor([target]).expand_as(output).to(output.device))\n",
    "        return gan_loss_func\n",
    "    \n",
    "    \n",
    "    def __init__(self, cgan:nn.Module, l_A:float=10., l_B:float=10, l_idt:float=0.5, lsgan:bool=True):\n",
    "        \"\"\"\n",
    "        Constructor for CycleGAN loss.\n",
    "        \n",
    "        Arguments:\n",
    "        \n",
    "        `cgan` (`nn.Module`): The CycleGAN model. \\n\n",
    "        `l_A` (`float`): weight of domain A losses. (default=10) \\n\n",
    "        `l_B` (`float`): weight of domain B losses. (default=10) \\n\n",
    "        `l_idt` (`float`): weight of identity losses. (default=0.5) \\n\n",
    "        `lsgan` (`bool`): Whether or not to use LSGAN objective. (default=True)\n",
    "        \"\"\"\n",
    "        super().__init__()\n",
    "        store_attr(self,'cgan,l_A,l_B,l_idt,lsgan')\n",
    "        self.crit = self._create_gan_loss(F.mse_loss if self.lsgan else F.binary_cross_entropy)\n",
    "        \n",
    "    def set_input(self, input): \"set `self.real_A` and `self.real_B` for future loss calculation\"; self.real_A,self.real_B = input\n",
    "    \n",
    "    def forward(self, output, target, discriminator=False):\n",
    "        \"\"\"\n",
    "        Forward function of the CycleGAN loss function. The generated images are passed in as output (which comes from the model)\n",
    "        and the generator loss is returned. If `discriminator` is set to True, the discriminator adversarial loss will be calculated \n",
    "        and returned instead.\n",
    "        \"\"\"  \n",
    "        if discriminator: #if discriminator argument is True, calculate and return the adversarial discriminator \n",
    "            fake_A, fake_B = output\n",
    "            real_A, real_B = target\n",
    "            self.D_A_loss = 0.5 * (self.crit(self.cgan.D_A(real_A), 1) + self.crit(self.cgan.D_A(fake_A), 0))\n",
    "            self.D_B_loss = 0.5 * (self.crit(self.cgan.D_B(real_B), 1) + self.crit(self.cgan.D_B(fake_B), 0))\n",
    "            return self.D_A_loss, self.D_B_loss\n",
    "        \n",
    "        fake_A, fake_B, idt_A, idt_B = output\n",
    "        #Generators should return identity on the datasets they try to convert to\n",
    "        self.id_loss_A = self.l_idt * self.l_A * F.l1_loss(idt_A, self.real_A)\n",
    "        self.id_loss_B = self.l_idt * self.l_B * F.l1_loss(idt_B, self.real_B)\n",
    "        #Generators are trained to trick the discriminators so the following should be ones\n",
    "        self.gen_loss_A = self.crit(self.cgan.D_A(fake_A), 1) \n",
    "        self.gen_loss_B = self.crit(self.cgan.D_B(fake_B), 1)\n",
    "        #Cycle loss\n",
    "        self.cyc_loss_A = self.l_A * F.l1_loss(self.cgan.G_A(fake_B), self.real_A)\n",
    "        self.cyc_loss_B = self.l_B * F.l1_loss(self.cgan.G_B(fake_A), self.real_B)\n",
    "        return self.id_loss_A+self.id_loss_B+self.gen_loss_A+self.gen_loss_B+self.cyc_loss_A+self.cyc_loss_B"
   ]
  },
  {
   "cell_type": "code",
   "execution_count": null,
   "metadata": {},
   "outputs": [
    {
     "data": {
      "text/markdown": [
       "<h4 id=\"CycleGANLoss.__init__\" class=\"doc_header\"><code>CycleGANLoss.__init__</code><a href=\"__main__.py#L30\" class=\"source_link\" style=\"float:right\">[source]</a></h4>\n",
       "\n",
       "> <code>CycleGANLoss.__init__</code>(**`cgan`**:`Module`, **`l_A`**:`float`=*`10.0`*, **`l_B`**:`float`=*`10`*, **`l_idt`**:`float`=*`0.5`*, **`lsgan`**:`bool`=*`True`*)\n",
       "\n",
       "Constructor for CycleGAN loss.\n",
       "\n",
       "Arguments:\n",
       "\n",
       "`cgan` (`nn.Module`): The CycleGAN model. \n",
       "\n",
       "`l_A` (`float`): weight of domain A losses. (default=10) \n",
       "\n",
       "`l_B` (`float`): weight of domain B losses. (default=10) \n",
       "\n",
       "`l_idt` (`float`): weight of identity losses. (default=0.5) \n",
       "\n",
       "`lsgan` (`bool`): Whether or not to use LSGAN objective. (default=True)"
      ],
      "text/plain": [
       "<IPython.core.display.Markdown object>"
      ]
     },
     "metadata": {},
     "output_type": "display_data"
    }
   ],
   "source": [
    "show_doc(CycleGANLoss.__init__)"
   ]
  },
  {
   "cell_type": "code",
   "execution_count": null,
   "metadata": {},
   "outputs": [
    {
     "data": {
      "text/markdown": [
       "<h4 id=\"CycleGANLoss.set_input\" class=\"doc_header\"><code>CycleGANLoss.set_input</code><a href=\"__main__.py#L46\" class=\"source_link\" style=\"float:right\">[source]</a></h4>\n",
       "\n",
       "> <code>CycleGANLoss.set_input</code>(**`input`**)\n",
       "\n",
       "set `self.real_A` and `self.real_B` for future loss calculation"
      ],
      "text/plain": [
       "<IPython.core.display.Markdown object>"
      ]
     },
     "metadata": {},
     "output_type": "display_data"
    }
   ],
   "source": [
    "show_doc(CycleGANLoss.set_input)"
   ]
  },
  {
   "cell_type": "code",
   "execution_count": null,
   "metadata": {},
   "outputs": [
    {
     "data": {
      "text/markdown": [
       "<h4 id=\"CycleGANLoss.forward\" class=\"doc_header\"><code>CycleGANLoss.forward</code><a href=\"__main__.py#L48\" class=\"source_link\" style=\"float:right\">[source]</a></h4>\n",
       "\n",
       "> <code>CycleGANLoss.forward</code>(**`output`**, **`target`**, **`discriminator`**=*`False`*)\n",
       "\n",
       "Forward function of the CycleGAN loss function. The generated images are passed in as output (which comes from the model)\n",
       "and the generator loss is returned. If [`discriminator`](/UPITmodels.cyclegan#discriminator) is set to True, the discriminator adversarial loss will be calculated \n",
       "and returned instead."
      ],
      "text/plain": [
       "<IPython.core.display.Markdown object>"
      ]
     },
     "metadata": {},
     "output_type": "display_data"
    }
   ],
   "source": [
    "show_doc(CycleGANLoss.forward)"
   ]
  },
  {
   "cell_type": "markdown",
   "metadata": {},
   "source": [
    "## Training loop callback\n",
    "Let's now write the main callback to train a CycleGAN model. \n",
    "\n",
    "Fastai's callback system is very flexible, allowing us to adjust the traditional training loop in any conceivable way possible. Let's use it for GAN training.\n",
    "\n",
    "We have the `_set_trainable` function that is called with arguments telling which networks need to be put in training mode or which need to be frozen.\n",
    "\n",
    "When we start training `before_train`, we define separate optimizers. `self.opt_G` for the generators and `self.opt_D` for the discriminators. Then we put the generators in training mode (with `_set_trainable`).\n",
    "\n",
    "Before passing the batch into the model (`before_batch`), we have to fix it since the domain B image was kept as the target, but it also needs to be passed into the model. We also set the inputs for the loss function.\n",
    "\n",
    "In `after_batch`, we calculate the discriminator losses, backpropagate, and update the weights of both the discriminators. The main training loop will train the generators (so `learn.opt` is given those parameters)."
   ]
  },
  {
   "cell_type": "code",
   "execution_count": null,
   "metadata": {},
   "outputs": [],
   "source": [
    "#export\n",
    "class CycleGANTrainer(Callback):\n",
    "    \"\"\"`Learner` Callback for training a CycleGAN model.\"\"\"\n",
    "    run_before = Recorder\n",
    "    \n",
    "    def __init__(self): pass\n",
    "    \n",
    "    def _set_trainable(self, disc=False):\n",
    "        \"\"\"Put the generators or discriminators in training mode depending on arguments.\"\"\"\n",
    "        def set_requires_grad(m, rg): \n",
    "            for p in m.parameters(): p.requires_grad_(rg) \n",
    "        set_requires_grad(self.learn.model.G_A, not disc)\n",
    "        set_requires_grad(self.learn.model.G_B, not disc)\n",
    "        set_requires_grad(self.learn.model.D_A, disc)\n",
    "        set_requires_grad(self.learn.model.D_B, disc)\n",
    "        if disc: self.opt_D.hypers = self.learn.opt.hypers\n",
    "            \n",
    "    def before_train(self, **kwargs):\n",
    "        #Setup and define optimizers for generator and discriminator\n",
    "        self.G_A,self.G_B = self.learn.model.G_A,self.learn.model.G_B\n",
    "        self.D_A,self.D_B = self.learn.model.D_A,self.learn.model.D_B\n",
    "        self.crit = self.learn.loss_func.crit\n",
    "        if not getattr(self,'opt_G',None):\n",
    "            self.opt_G = self.learn.opt_func(self.learn.splitter(nn.Sequential(*flatten_model(self.G_A), *flatten_model(self.G_B))), self.learn.lr)\n",
    "        else: \n",
    "            self.opt_G.hypers = self.learn.opt.hypers\n",
    "        if not getattr(self,'opt_D',None):\n",
    "            self.opt_D = self.learn.opt_func(self.learn.splitter(nn.Sequential(*flatten_model(self.D_A), *flatten_model(self.D_B))), self.learn.lr)\n",
    "\n",
    "        self.learn.opt = self.opt_G\n",
    "        self._set_trainable()\n",
    "        \n",
    "    def before_batch(self, **kwargs):\n",
    "        #Reorganize the input batch\n",
    "        self._training = self.learn.model.training\n",
    "        self.learn.xb = (self.learn.xb[0],self.learn.yb[0]),\n",
    "        self.learn.loss_func.set_input(*self.learn.xb)\n",
    "\n",
    "    def after_step(self): self.opt_D.hypers = self.learn.opt.hypers\n",
    "\n",
    "    def after_batch(self, **kwargs):\n",
    "        # Discriminator training loop\n",
    "        self.G_A.zero_grad(); self.G_B.zero_grad()\n",
    "        fake_A, fake_B = self.learn.pred[0].detach(), self.learn.pred[1].detach() \n",
    "        (real_A, real_B), = self.learn.xb\n",
    "        if self._training:\n",
    "            self._set_trainable(True)\n",
    "            self.D_A.zero_grad(); self.D_B.zero_grad()\n",
    "            loss_D_A, loss_D_B = self.learn.loss_func((fake_A,fake_B),(real_A,real_B),discriminator=True)\n",
    "            loss_D_A.backward()\n",
    "            loss_D_B.backward()\n",
    "            self.opt_D.step()\n",
    "            self._set_trainable()\n",
    "    \n",
    "    def before_validate(self, **kwargs):\n",
    "        self.G_A,self.G_B = self.learn.model.G_A,self.learn.model.G_B\n",
    "        self.D_A,self.D_B = self.learn.model.D_A,self.learn.model.D_B\n",
    "        self.crit = self.learn.loss_func.crit"
   ]
  },
  {
   "cell_type": "code",
   "execution_count": null,
   "metadata": {},
   "outputs": [],
   "source": [
    "#export\n",
    "class AvgMetric(Metric):\n",
    "    \"\"\"\n",
    "    Average the values of `func` taking into account potential different batch sizes. \n",
    "    Overwrites fastai's version by including argument to decode the output image\n",
    "    \"\"\"\n",
    "    def __init__(self, func, decode=True):  \n",
    "        self.func = func\n",
    "        self.decode = denorm\n",
    "    def reset(self): self.total,self.count = 0.,0\n",
    "    def accumulate(self, learn):\n",
    "        bs = find_bs(learn.yb)\n",
    "        args = [*learn.xb[0], *learn.pred, *learn.yb]\n",
    "        if self.decode: args = [learn.dls.after_batch.decode(TensorImage(b)).float() for b in args]\n",
    "        self.total += to_detach(self.func(*args))*bs\n",
    "        self.count += bs\n",
    "    @property\n",
    "    def value(self): return self.total/self.count if self.count != 0 else None\n",
    "    @property\n",
    "    def name(self):  return self.func.func.__name__ if hasattr(self.func, 'func') else  self.func.__name__"
   ]
  },
  {
   "cell_type": "markdown",
   "metadata": {},
   "source": [
    "## CycleGAN LR scheduler"
   ]
  },
  {
   "cell_type": "markdown",
   "metadata": {},
   "source": [
    "The original CycleGAN paper started with a period of constant learning rate and a period of linearly decaying learning rate. Let's make a scheduler to implement this (with other possibilities as well). Fastai already comes with many types of hyperparameter schedules, and new ones can be created by combining existing ones. Let's see how to do this:"
   ]
  },
  {
   "cell_type": "code",
   "execution_count": null,
   "metadata": {},
   "outputs": [],
   "source": [
    "#export\n",
    "def combined_flat_anneal(pct:float, start_lr:float, end_lr:float=0, curve_type:str='linear'):\n",
    "    \"\"\"\n",
    "    Create a schedule with constant learning rate `start_lr` for `pct` proportion of the training, and a `curve_type` learning rate (till `end_lr`) for remaining portion of training.\n",
    "    \n",
    "    Arguments:\n",
    "    `pct` (`float`): Proportion of training with a constant learning rate.\n",
    "    \n",
    "    `start_lr` (`float`): Desired starting learning rate, used for beginnning `pct` of training.\n",
    "    \n",
    "    `end_lr` (`float`): Desired end learning rate, training will conclude at this learning rate.\n",
    "    \n",
    "    `curve_type` (`str`): Curve type for learning rate annealing. Options are 'linear', 'cosine', and 'exponential'.\n",
    "    \"\"\"\n",
    "    if curve_type == 'linear':      SchedAnneal = SchedLin\n",
    "    if curve_type == 'cosine':      SchedAnneal = SchedCos\n",
    "    if curve_type == 'exponential': SchedAnneal = SchedExp\n",
    "    schedule = combine_scheds([pct,1-pct],[SchedNo(start_lr,start_lr),SchedAnneal(start_lr,end_lr)])\n",
    "    return schedule"
   ]
  },
  {
   "cell_type": "code",
   "execution_count": null,
   "metadata": {},
   "outputs": [
    {
     "data": {
      "text/plain": [
       "Text(0.5,1,'Constant+annealing LR schedules')"
      ]
     },
     "execution_count": null,
     "metadata": {},
     "output_type": "execute_result"
    },
    {
     "data": {
      "image/png": "[encoded data removed]",
      "text/plain": [
       "<Figure size 432x288 with 1 Axes>"
      ]
     },
     "metadata": {
      "needs_background": "light"
     },
     "output_type": "display_data"
    }
   ],
   "source": [
    "p = torch.linspace(0.,1,200)\n",
    "plt.plot(p, [combined_flat_anneal(0.5,1,1e-2,curve_type='linear')(o) for o in p],label = 'linear annealing')\n",
    "plt.plot(p, [combined_flat_anneal(0.5,1,1e-2,curve_type='cosine')(o) for o in p],label = 'cosine annealing')\n",
    "plt.plot(p, [combined_flat_anneal(0.5,1,1e-2,curve_type='exponential')(o) for o in p],label = 'exponential annealing')\n",
    "plt.legend()\n",
    "plt.title('Constant+annealing LR schedules')"
   ]
  },
  {
   "cell_type": "markdown",
   "metadata": {},
   "source": [
    "Now that we have the learning rate schedule, we can write a quick training function that can be added as a method to `Learner` using `@patch` decorator. Function is inspired by [this code](https://github.com/fastai/fastai/blob/master/fastai/callback/schedule.py)."
   ]
  },
  {
   "cell_type": "code",
   "execution_count": null,
   "metadata": {},
   "outputs": [],
   "source": [
    "#export\n",
    "@patch\n",
    "def fit_flat_lin(self:Learner, n_epochs:int=100, n_epochs_decay:int=100, start_lr:float=None, end_lr:float=0, curve_type:str='linear', wd:float=None,\n",
    "                 cbs=None, reset_opt=False):\n",
    "    \"Fit `self.model` for `n_epoch` at flat `start_lr` before `curve_type` annealing to `end_lr` with weight decay of `wd` and callbacks `cbs`.\"\n",
    "    total_epochs = n_epochs+n_epochs_decay\n",
    "    pct_start = n_epochs/total_epochs\n",
    "    if self.opt is None: self.create_opt()\n",
    "    self.opt.set_hyper('lr', self.lr if start_lr is None else start_lr)\n",
    "    start_lr = np.array([h['lr'] for h in self.opt.hypers])\n",
    "    scheds = {'lr': combined_flat_anneal(pct_start, start_lr, end_lr, curve_type)}\n",
    "    self.fit(total_epochs, cbs=ParamScheduler(scheds)+L(cbs), reset_opt=reset_opt, wd=wd)"
   ]
  },
  {
   "cell_type": "code",
   "execution_count": null,
   "metadata": {},
   "outputs": [],
   "source": [
    "from fastai.test_utils import *"
   ]
  },
  {
   "cell_type": "code",
   "execution_count": null,
   "metadata": {},
   "outputs": [
    {
     "data": {
      "text/html": [
       "<table border=\"1\" class=\"dataframe\">\n",
       "  <thead>\n",
       "    <tr style=\"text-align: left;\">\n",
       "      <th>epoch</th>\n",
       "      <th>train_loss</th>\n",
       "      <th>valid_loss</th>\n",
       "      <th>time</th>\n",
       "    </tr>\n",
       "  </thead>\n",
       "  <tbody>\n",
       "    <tr>\n",
       "      <td>0</td>\n",
       "      <td>6.763257</td>\n",
       "      <td>5.973986</td>\n",
       "      <td>00:00</td>\n",
       "    </tr>\n",
       "    <tr>\n",
       "      <td>1</td>\n",
       "      <td>6.041855</td>\n",
       "      <td>4.450920</td>\n",
       "      <td>00:00</td>\n",
       "    </tr>\n",
       "    <tr>\n",
       "      <td>2</td>\n",
       "      <td>5.236164</td>\n",
       "      <td>3.412698</td>\n",
       "      <td>00:00</td>\n",
       "    </tr>\n",
       "    <tr>\n",
       "      <td>3</td>\n",
       "      <td>4.606007</td>\n",
       "      <td>3.090190</td>\n",
       "      <td>00:00</td>\n",
       "    </tr>\n",
       "  </tbody>\n",
       "</table>"
      ],
      "text/plain": [
       "<IPython.core.display.HTML object>"
      ]
     },
     "metadata": {},
     "output_type": "display_data"
    }
   ],
   "source": [
    "learn = synth_learner()\n",
    "learn.fit_flat_lin(n_epochs=2,n_epochs_decay=2)"
   ]
  },
  {
   "cell_type": "code",
   "execution_count": null,
   "metadata": {},
   "outputs": [
    {
     "data": {
      "image/png": "[encoded data removed]",
      "text/plain": [
       "<Figure size 432x288 with 1 Axes>"
      ]
     },
     "metadata": {
      "needs_background": "light"
     },
     "output_type": "display_data"
    }
   ],
   "source": [
    "learn.recorder.plot_sched()"
   ]
  },
  {
   "cell_type": "markdown",
   "metadata": {},
   "source": [
    "## CycleGAN Learner construction"
   ]
  },
  {
   "cell_type": "markdown",
   "metadata": {},
   "source": [
    "Below, we now define a method for initializing a `Learner` with the CycleGAN model and training callback."
   ]
  },
  {
   "cell_type": "code",
   "execution_count": null,
   "metadata": {},
   "outputs": [],
   "source": [
    "#export\n",
    "@delegates(Learner.__init__)\n",
    "def cycle_learner(dls:DataLoader, m:CycleGAN, opt_func=Adam, metrics:list=[], cbs:list=[], **kwargs):\n",
    "    \"\"\"\n",
    "    Initialize and return a `Learner` object with the data in `dls`, CycleGAN model `m`, optimizer function `opt_func`, metrics `metrics`,\n",
    "    and callbacks `cbs`. Other `Learner` arguments can be passed as well.\n",
    "    \"\"\"\n",
    "    lms = LossMetrics(['id_loss_A', 'id_loss_B','gen_loss_A','gen_loss_B','cyc_loss_A','cyc_loss_B', \n",
    "                       'D_A_loss', 'D_B_loss'])\n",
    "\n",
    "    learn = Learner(dls, m, loss_func=CycleGANLoss(m), opt_func=opt_func,\n",
    "                    cbs=[CycleGANTrainer, *cbs],metrics=[*lms, *[AvgMetric(metric) for metric in [*metrics]]])\n",
    "\n",
    "    learn.recorder.train_metrics = True\n",
    "    learn.recorder.valid_metrics = False\n",
    "    return learn"
   ]
  },
  {
   "cell_type": "markdown",
   "metadata": {},
   "source": [
    "## Quick Test"
   ]
  },
  {
   "cell_type": "code",
   "execution_count": null,
   "metadata": {},
   "outputs": [],
   "source": [
    "horse2zebra = untar_data('https://people.eecs.berkeley.edu/~taesung_park/CycleGAN/datasets/horse2zebra.zip')"
   ]
  },
  {
   "cell_type": "code",
   "execution_count": null,
   "metadata": {},
   "outputs": [],
   "source": [
    "folders = horse2zebra.ls().sorted()"
   ]
  },
  {
   "cell_type": "code",
   "execution_count": null,
   "metadata": {},
   "outputs": [],
   "source": [
    "trainA_path = folders[2]\n",
    "trainB_path = folders[3]\n",
    "testA_path = folders[0]\n",
    "testB_path = folders[1]"
   ]
  },
  {
   "cell_type": "code",
   "execution_count": null,
   "metadata": {},
   "outputs": [],
   "source": [
    "dls = get_dls(trainA_path, trainB_path)"
   ]
  },
  {
   "cell_type": "code",
   "execution_count": null,
   "metadata": {},
   "outputs": [],
   "source": [
    "cycle_gan = CycleGAN(3,3,64)\n",
    "learn = cycle_learner(dls, cycle_gan)"
   ]
  },
  {
   "cell_type": "code",
   "execution_count": null,
   "metadata": {},
   "outputs": [],
   "source": [
    "test_eq(type(learn),Learner)"
   ]
  },
  {
   "cell_type": "code",
   "execution_count": null,
   "metadata": {},
   "outputs": [
    {
     "data": {
      "text/html": [],
      "text/plain": [
       "<IPython.core.display.HTML object>"
      ]
     },
     "metadata": {},
     "output_type": "display_data"
    },
    {
     "data": {
      "text/plain": [
       "SuggestedLRs(lr_min=0.0003019951749593019, lr_steep=7.585775892948732e-05)"
      ]
     },
     "execution_count": null,
     "metadata": {},
     "output_type": "execute_result"
    },
    {
     "data": {
      "image/png": "[encoded data removed]",
      "text/plain": [
       "<Figure size 432x288 with 1 Axes>"
      ]
     },
     "metadata": {
      "needs_background": "light"
     },
     "output_type": "display_data"
    }
   ],
   "source": [
    "#cuda\n",
    "learn.lr_find()"
   ]
  },
  {
   "cell_type": "code",
   "execution_count": null,
   "metadata": {},
   "outputs": [
    {
     "data": {
      "text/html": [
       "<table border=\"1\" class=\"dataframe\">\n",
       "  <thead>\n",
       "    <tr style=\"text-align: left;\">\n",
       "      <th>epoch</th>\n",
       "      <th>train_loss</th>\n",
       "      <th>id_loss_A</th>\n",
       "      <th>id_loss_B</th>\n",
       "      <th>gen_loss_A</th>\n",
       "      <th>gen_loss_B</th>\n",
       "      <th>cyc_loss_A</th>\n",
       "      <th>cyc_loss_B</th>\n",
       "      <th>D_A_loss</th>\n",
       "      <th>D_B_loss</th>\n",
       "      <th>time</th>\n",
       "    </tr>\n",
       "  </thead>\n",
       "  <tbody>\n",
       "    <tr>\n",
       "      <td>0</td>\n",
       "      <td>6.651612</td>\n",
       "      <td>1.136863</td>\n",
       "      <td>1.146853</td>\n",
       "      <td>0.598896</td>\n",
       "      <td>0.299569</td>\n",
       "      <td>2.403009</td>\n",
       "      <td>2.499691</td>\n",
       "      <td>0.403220</td>\n",
       "      <td>0.249888</td>\n",
       "      <td>03:02</td>\n",
       "    </tr>\n",
       "    <tr>\n",
       "      <td>1</td>\n",
       "      <td>5.545041</td>\n",
       "      <td>0.867873</td>\n",
       "      <td>0.809700</td>\n",
       "      <td>0.360292</td>\n",
       "      <td>0.336007</td>\n",
       "      <td>1.827404</td>\n",
       "      <td>1.756618</td>\n",
       "      <td>0.212341</td>\n",
       "      <td>0.214775</td>\n",
       "      <td>03:03</td>\n",
       "    </tr>\n",
       "  </tbody>\n",
       "</table>"
      ],
      "text/plain": [
       "<IPython.core.display.HTML object>"
      ]
     },
     "metadata": {},
     "output_type": "display_data"
    },
    {
     "name": "stderr",
     "output_type": "stream",
     "text": [
      "/home/tmabraham/anaconda3/lib/python3.7/site-packages/fastprogress/fastprogress.py:74: UserWarning: Your generator is empty.\n",
      "  warn(\"Your generator is empty.\")\n"
     ]
    }
   ],
   "source": [
    "#cuda\n",
    "learn.fit_flat_lin(1,1,2e-4)"
   ]
  },
  {
   "cell_type": "code",
   "execution_count": null,
   "metadata": {},
   "outputs": [
    {
     "data": {
      "image/png": "[encoded data removed]",
      "text/plain": [
       "<Figure size 432x288 with 1 Axes>"
      ]
     },
     "metadata": {
      "needs_background": "light"
     },
     "output_type": "display_data"
    }
   ],
   "source": [
    "#cuda\n",
    "learn.recorder.plot_loss(with_valid=False)"
   ]
  },
  {
   "cell_type": "code",
   "execution_count": null,
   "metadata": {},
   "outputs": [
    {
     "name": "stdout",
     "output_type": "stream",
     "text": [
      "Converted 01_models.cyclegan.ipynb.\n",
      "Converted 01b_models.junyanz.ipynb.\n",
      "Converted 02_data.unpaired.ipynb.\n",
      "Converted 03_train.cyclegan.ipynb.\n",
      "Converted 04_inference.cyclegan.ipynb.\n",
      "Converted index.ipynb.\n"
     ]
    }
   ],
   "source": [
    "#hide\n",
    "from nbdev.export import notebook2script\n",
    "notebook2script()"
   ]
  }
 ],
 "metadata": {
  "kernelspec": {
   "display_name": "Python 3",
   "language": "python",
   "name": "python3"
  }
 },
 "nbformat": 4,
 "nbformat_minor": 4
}
